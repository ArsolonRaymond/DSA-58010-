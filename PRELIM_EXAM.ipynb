{
  "nbformat": 4,
  "nbformat_minor": 0,
  "metadata": {
    "colab": {
      "provenance": [],
      "authorship_tag": "ABX9TyMtOlDA8q+TtJTlRUkxe+B8",
      "include_colab_link": true
    },
    "kernelspec": {
      "name": "python3",
      "display_name": "Python 3"
    },
    "language_info": {
      "name": "python"
    }
  },
  "cells": [
    {
      "cell_type": "markdown",
      "metadata": {
        "id": "view-in-github",
        "colab_type": "text"
      },
      "source": [
        "<a href=\"https://colab.research.google.com/github/ArsolonRaymond/DSA-58010-/blob/main/PRELIM_EXAM.ipynb\" target=\"_parent\"><img src=\"https://colab.research.google.com/assets/colab-badge.svg\" alt=\"Open In Colab\"/></a>"
      ]
    },
    {
      "cell_type": "markdown",
      "source": [
        "1. Choose Array data structure\n",
        "2. Create a python program that creates the array list below and counts the no. of even numbers\n",
        " A = [1,2,3,4,5,6,7,8,9,10]\n",
        "**Save your program as \"Prelim Exam\" to your GitHub\n",
        "\n",
        "**Send the link address of GitHub to the Prelim Exam folder (BlackBoard)"
      ],
      "metadata": {
        "id": "D0-EMA-pW2Wq"
      }
    },
    {
      "cell_type": "code",
      "execution_count": 3,
      "metadata": {
        "colab": {
          "base_uri": "https://localhost:8080/"
        },
        "id": "UPtz6a4dWw9V",
        "outputId": "788758f0-cea3-46cb-8363-0912e5eb5955"
      },
      "outputs": [
        {
          "output_type": "stream",
          "name": "stdout",
          "text": [
            "Integers: [1, 2, 3, 4, 5, 6, 7, 8, 9, 10]\n",
            "\n",
            "The even numbers in array are 2, 4, 6, 8, 10\n",
            "The count of even numbers in array is 5\n"
          ]
        }
      ],
      "source": [
        "#Program to create array list that counts the no. of even numbers\n",
        "A = [1,2,3,4,5,6,7,8,9,10] #set the numbers from 1 to 10\n",
        "print(\"Integers:\", A) \n",
        "\n",
        "int = \"2, 4, 6, 8, 10\"\n",
        "print(\"\")\n",
        "print(\"The even numbers in array are\", int)\n",
        "\n",
        "def even(int):\n",
        "  even = set(\"24680\")\n",
        "  count = 0\n",
        "\n",
        "  for number in int:\n",
        "    if number in even:\n",
        "      count = count + 1\n",
        "\n",
        "  print(\"The count of even numbers in array is\", count)\n",
        "\n",
        "even(int)"
      ]
    }
  ]
}