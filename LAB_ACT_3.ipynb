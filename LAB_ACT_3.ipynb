{
  "nbformat": 4,
  "nbformat_minor": 0,
  "metadata": {
    "colab": {
      "provenance": [],
      "authorship_tag": "ABX9TyMPw4wyU1u37HJWwvz1XL4I",
      "include_colab_link": true
    },
    "kernelspec": {
      "name": "python3",
      "display_name": "Python 3"
    },
    "language_info": {
      "name": "python"
    }
  },
  "cells": [
    {
      "cell_type": "markdown",
      "metadata": {
        "id": "view-in-github",
        "colab_type": "text"
      },
      "source": [
        "<a href=\"https://colab.research.google.com/github/ArsolonRaymond/DSA-58010-/blob/main/LAB_ACT_3.ipynb\" target=\"_parent\"><img src=\"https://colab.research.google.com/assets/colab-badge.svg\" alt=\"Open In Colab\"/></a>"
      ]
    },
    {
      "cell_type": "markdown",
      "source": [
        "Write a program that can perform the Caesar cipher for English messages that include both upper- and lowercase characters."
      ],
      "metadata": {
        "id": "8UoPxh3XShi2"
      }
    },
    {
      "cell_type": "code",
      "execution_count": 42,
      "metadata": {
        "colab": {
          "base_uri": "https://localhost:8080/"
        },
        "id": "nJzVIJeXM8Hu",
        "outputId": "c46bf600-9fa7-4ee9-d1d2-56e1012747f8"
      },
      "outputs": [
        {
          "output_type": "stream",
          "name": "stdout",
          "text": [
            "Please enter your message: pokemon\n",
            "Enter the shift number: 7\n",
            "Message:  pokemon\n",
            "The Caesar Cipher is:  wvrltvu\n"
          ]
        }
      ],
      "source": [
        "def enigma (string, shift):\n",
        "\n",
        "  caecipher = ''\n",
        "  for char in string:\n",
        "    if char =='':\n",
        "      caecipher = caecipher + char\n",
        "    elif char.isupper():\n",
        "        caecipher = caecipher + chr((ord(char) + shift - 65) % 26 + 65)\n",
        "    else:\n",
        "        caecipher = caecipher + chr((ord(char) + shift - 97) % 26 + 97)\n",
        "\n",
        "  return caecipher\n",
        "  \n",
        "text = input(\"Please enter your message: \")\n",
        "nas = int(input(\"Enter the shift number: \"))\n",
        "print(\"Message: \", text)\n",
        "print(\"The Caesar Cipher is: \", enigma(text, nas))"
      ]
    },
    {
      "cell_type": "code",
      "source": [],
      "metadata": {
        "id": "8n5-FNcnl6du"
      },
      "execution_count": null,
      "outputs": []
    }
  ]
}