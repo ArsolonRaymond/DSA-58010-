{
  "nbformat": 4,
  "nbformat_minor": 0,
  "metadata": {
    "colab": {
      "provenance": [],
      "authorship_tag": "ABX9TyO4NYz5PBeDSn5/+z0jJ9d/",
      "include_colab_link": true
    },
    "kernelspec": {
      "name": "python3",
      "display_name": "Python 3"
    },
    "language_info": {
      "name": "python"
    }
  },
  "cells": [
    {
      "cell_type": "markdown",
      "metadata": {
        "id": "view-in-github",
        "colab_type": "text"
      },
      "source": [
        "<a href=\"https://colab.research.google.com/github/ArsolonRaymond/DSA-58010-/blob/main/guessing_game_array.ipynb\" target=\"_parent\"><img src=\"https://colab.research.google.com/assets/colab-badge.svg\" alt=\"Open In Colab\"/></a>"
      ]
    },
    {
      "cell_type": "markdown",
      "source": [
        "The player in this game must guess a word by guessing letters. Before losing the game, the player gets six chances to guess wrong. They win the game if they correctly predict all of the letters in the word before they run out of chances.\n",
        "\n",
        "This game use arrays to record the letters that were properly and wrongly guessed, as well as the list of possible words that the player can guess. The game employs a loop to continue asking the player to guess letters until they win or lose. It also employs an if statement to determine whether or not the player's estimate was right and to update the arrays and game variables accordingly."
      ],
      "metadata": {
        "id": "hb4sorLF3Zg-"
      }
    },
    {
      "cell_type": "code",
      "source": [
        "# Import the \"random\" module to generate random numbers\n",
        "import random\n",
        "\n",
        "# Create an array of words\n",
        "words = [\"apple\", \"banana\", \"orange\", \"strawberry\", \"grape\"]\n",
        "\n",
        "index = random.randint(0, len(words) - 1) \n",
        "# Generate a random index for the word array\n",
        "\n",
        "# Get the word at the random index from the array\n",
        "word = words[index]\n",
        "\n",
        "# Create an empty array to store the correctly guessed letters\n",
        "correct_letters = []\n",
        "\n",
        "# Create an empty array to store the incorrectly guessed letters\n",
        "incorrect_letters = []\n",
        "\n",
        "# Create a variable to track whether the player has won the game\n",
        "win = False\n",
        "\n",
        "# Print the word with underscores for each letter\n",
        "print(\"_ \" * len(word))\n",
        "\n",
        "\n",
        "letter = input(\"Guess a letter: \")  # Ask the player to guess a letter\n",
        "\n",
        "# Keep asking the player to guess letters until they win or lose\n",
        "while not win and len(incorrect_letters) < 6:\n",
        "    # Check if the letter is in the word\n",
        "    if letter in word:\n",
        "        # Insert the letter into the appropriate letters array.\n",
        "        correct_letters.append(letter)\n",
        "\n",
        "        # Check to see if the player has won.\n",
        "        if len(correct_letters) == len(word):\n",
        "            win = True\n",
        "    else:\n",
        "        # Add the letter to the array of incorrect letters.\n",
        "        incorrect_letters.append(letter)\n",
        "\n",
        "    # For letters that haven't been guessed, print the word with underscores.\n",
        "    for char in word:\n",
        "        if char in correct_letters:\n",
        "            print(char, end=\" \")\n",
        "        else:\n",
        "            print(\"_\", end=\" \")\n",
        "\n",
        "    # If the player has lost, print the incorrect letters as well as a message.\n",
        "    if len(incorrect_letters) == 6:\n",
        "        print(\"\\nYou lose! The word was \" + word)\n",
        "    else:\n",
        "        # Ask the player to guess another letter\n",
        "        letter = input(\"\\nGuess a letter: \")\n",
        "\n",
        "# Victory Message\n",
        "if win:\n",
        "    print(\"You win!\")"
      ],
      "metadata": {
        "colab": {
          "base_uri": "https://localhost:8080/",
          "height": 397
        },
        "id": "S97r1WGS1yAE",
        "outputId": "dcba8e7b-4fa5-424c-e696-5e820251a3d5"
      },
      "execution_count": null,
      "outputs": [
        {
          "output_type": "stream",
          "name": "stdout",
          "text": [
            "_ _ _ _ _ _ \n"
          ]
        },
        {
          "output_type": "error",
          "ename": "KeyboardInterrupt",
          "evalue": "ignored",
          "traceback": [
            "\u001b[0;31m---------------------------------------------------------------------------\u001b[0m",
            "\u001b[0;31mKeyboardInterrupt\u001b[0m                         Traceback (most recent call last)",
            "\u001b[0;32m<ipython-input-2-12dbd8fe36cb>\u001b[0m in \u001b[0;36m<module>\u001b[0;34m\u001b[0m\n\u001b[1;32m     24\u001b[0m \u001b[0;34m\u001b[0m\u001b[0m\n\u001b[1;32m     25\u001b[0m \u001b[0;34m\u001b[0m\u001b[0m\n\u001b[0;32m---> 26\u001b[0;31m \u001b[0mletter\u001b[0m \u001b[0;34m=\u001b[0m \u001b[0minput\u001b[0m\u001b[0;34m(\u001b[0m\u001b[0;34m\"Guess a letter: \"\u001b[0m\u001b[0;34m)\u001b[0m  \u001b[0;31m# Ask the player to guess a letter\u001b[0m\u001b[0;34m\u001b[0m\u001b[0;34m\u001b[0m\u001b[0m\n\u001b[0m\u001b[1;32m     27\u001b[0m \u001b[0;34m\u001b[0m\u001b[0m\n\u001b[1;32m     28\u001b[0m \u001b[0;31m# Keep asking the player to guess letters until they win or lose\u001b[0m\u001b[0;34m\u001b[0m\u001b[0;34m\u001b[0m\u001b[0;34m\u001b[0m\u001b[0m\n",
            "\u001b[0;32m/usr/local/lib/python3.8/dist-packages/ipykernel/kernelbase.py\u001b[0m in \u001b[0;36mraw_input\u001b[0;34m(self, prompt)\u001b[0m\n\u001b[1;32m    858\u001b[0m                 \u001b[0;34m\"raw_input was called, but this frontend does not support input requests.\"\u001b[0m\u001b[0;34m\u001b[0m\u001b[0;34m\u001b[0m\u001b[0m\n\u001b[1;32m    859\u001b[0m             )\n\u001b[0;32m--> 860\u001b[0;31m         return self._input_request(str(prompt),\n\u001b[0m\u001b[1;32m    861\u001b[0m             \u001b[0mself\u001b[0m\u001b[0;34m.\u001b[0m\u001b[0m_parent_ident\u001b[0m\u001b[0;34m,\u001b[0m\u001b[0;34m\u001b[0m\u001b[0;34m\u001b[0m\u001b[0m\n\u001b[1;32m    862\u001b[0m             \u001b[0mself\u001b[0m\u001b[0;34m.\u001b[0m\u001b[0m_parent_header\u001b[0m\u001b[0;34m,\u001b[0m\u001b[0;34m\u001b[0m\u001b[0;34m\u001b[0m\u001b[0m\n",
            "\u001b[0;32m/usr/local/lib/python3.8/dist-packages/ipykernel/kernelbase.py\u001b[0m in \u001b[0;36m_input_request\u001b[0;34m(self, prompt, ident, parent, password)\u001b[0m\n\u001b[1;32m    902\u001b[0m             \u001b[0;32mexcept\u001b[0m \u001b[0mKeyboardInterrupt\u001b[0m\u001b[0;34m:\u001b[0m\u001b[0;34m\u001b[0m\u001b[0;34m\u001b[0m\u001b[0m\n\u001b[1;32m    903\u001b[0m                 \u001b[0;31m# re-raise KeyboardInterrupt, to truncate traceback\u001b[0m\u001b[0;34m\u001b[0m\u001b[0;34m\u001b[0m\u001b[0;34m\u001b[0m\u001b[0m\n\u001b[0;32m--> 904\u001b[0;31m                 \u001b[0;32mraise\u001b[0m \u001b[0mKeyboardInterrupt\u001b[0m\u001b[0;34m(\u001b[0m\u001b[0;34m\"Interrupted by user\"\u001b[0m\u001b[0;34m)\u001b[0m \u001b[0;32mfrom\u001b[0m \u001b[0;32mNone\u001b[0m\u001b[0;34m\u001b[0m\u001b[0;34m\u001b[0m\u001b[0m\n\u001b[0m\u001b[1;32m    905\u001b[0m             \u001b[0;32mexcept\u001b[0m \u001b[0mException\u001b[0m \u001b[0;32mas\u001b[0m \u001b[0me\u001b[0m\u001b[0;34m:\u001b[0m\u001b[0;34m\u001b[0m\u001b[0;34m\u001b[0m\u001b[0m\n\u001b[1;32m    906\u001b[0m                 \u001b[0mself\u001b[0m\u001b[0;34m.\u001b[0m\u001b[0mlog\u001b[0m\u001b[0;34m.\u001b[0m\u001b[0mwarning\u001b[0m\u001b[0;34m(\u001b[0m\u001b[0;34m\"Invalid Message:\"\u001b[0m\u001b[0;34m,\u001b[0m \u001b[0mexc_info\u001b[0m\u001b[0;34m=\u001b[0m\u001b[0;32mTrue\u001b[0m\u001b[0;34m)\u001b[0m\u001b[0;34m\u001b[0m\u001b[0;34m\u001b[0m\u001b[0m\n",
            "\u001b[0;31mKeyboardInterrupt\u001b[0m: Interrupted by user"
          ]
        }
      ]
    },
    {
      "cell_type": "code",
      "source": [],
      "metadata": {
        "id": "lqJijqRE3abB"
      },
      "execution_count": null,
      "outputs": []
    }
  ]
}