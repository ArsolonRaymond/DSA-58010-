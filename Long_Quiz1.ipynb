{
  "nbformat": 4,
  "nbformat_minor": 0,
  "metadata": {
    "colab": {
      "provenance": [],
      "authorship_tag": "ABX9TyO4Frn6+qp7mpXqYa++P8DP",
      "include_colab_link": true
    },
    "kernelspec": {
      "name": "python3",
      "display_name": "Python 3"
    },
    "language_info": {
      "name": "python"
    }
  },
  "cells": [
    {
      "cell_type": "markdown",
      "metadata": {
        "id": "view-in-github",
        "colab_type": "text"
      },
      "source": [
        "<a href=\"https://colab.research.google.com/github/ArsolonRaymond/DSA-58010-/blob/main/Long_Quiz1.ipynb\" target=\"_parent\"><img src=\"https://colab.research.google.com/assets/colab-badge.svg\" alt=\"Open In Colab\"/></a>"
      ]
    },
    {
      "cell_type": "code",
      "execution_count": 18,
      "metadata": {
        "colab": {
          "base_uri": "https://localhost:8080/"
        },
        "id": "lI9YhMmW9UVp",
        "outputId": "74b49e4f-4cb4-408c-ed5a-59e735725d7e"
      },
      "outputs": [
        {
          "output_type": "stream",
          "name": "stdout",
          "text": [
            "['r', 'a', 'y', 'm', 'o', 'n', 'd', '', 'f', 'r', 'a', 'n', 'c', 'i', 's', '', 'a', 'r', 's', 'o', 'l', 'o', 'n']\n",
            "Reversed:\n",
            " n\n",
            " o\n",
            " l\n",
            " o\n",
            " s\n",
            " r\n",
            " a\n",
            " \n",
            " s\n",
            " i\n",
            " c\n",
            " n\n",
            " a\n",
            " r\n",
            " f\n",
            " \n",
            " d\n",
            " n\n",
            " o\n",
            " m\n",
            " y\n",
            " a\n",
            " r\n"
          ]
        }
      ],
      "source": [
        "name = []\n",
        "\n",
        "name.append ('r')\n",
        "name.append ('a')\n",
        "name.append ('y')\n",
        "name.append ('m')\n",
        "name.append ('o')\n",
        "name.append ('n')\n",
        "name.append ('d')\n",
        "name.append ('')\n",
        "name.append ('f')\n",
        "name.append ('r')\n",
        "name.append ('a')\n",
        "name.append ('n')\n",
        "name.append ('c')\n",
        "name.append ('i')\n",
        "name.append ('s')\n",
        "name.append ('')\n",
        "name.append ('a')\n",
        "name.append ('r')\n",
        "name.append ('s')\n",
        "name.append ('o')\n",
        "name.append ('l')\n",
        "name.append ('o')\n",
        "name.append ('n')\n",
        "\n",
        "print(name)\n",
        "\n",
        "name.reverse()\n",
        "print('Reversed:')\n",
        "for x in name:\n",
        "  print('', x)"
      ]
    }
  ]
}