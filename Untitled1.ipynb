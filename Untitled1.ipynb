{
  "nbformat": 4,
  "nbformat_minor": 0,
  "metadata": {
    "colab": {
      "provenance": [],
      "authorship_tag": "ABX9TyPaXSeo+aWq7WmsGg2t+EhZ",
      "include_colab_link": true
    },
    "kernelspec": {
      "name": "python3",
      "display_name": "Python 3"
    },
    "language_info": {
      "name": "python"
    }
  },
  "cells": [
    {
      "cell_type": "markdown",
      "metadata": {
        "id": "view-in-github",
        "colab_type": "text"
      },
      "source": [
        "<a href=\"https://colab.research.google.com/github/ArsolonRaymond/DSA-58010-/blob/main/Untitled1.ipynb\" target=\"_parent\"><img src=\"https://colab.research.google.com/assets/colab-badge.svg\" alt=\"Open In Colab\"/></a>"
      ]
    },
    {
      "cell_type": "code",
      "source": [
        "# Creating a recursive algorithm for finding maximum number and minumum number\n",
        "\n",
        "def FindMaxRecur(num):\n",
        "     minimum = num[0]\n",
        "     for value in  num[1:]:\n",
        "         if value < minimum:\n",
        "             minimum = value\n",
        "     return minimum\n",
        "\n",
        "def find_max(num):\n",
        "     maximum = num[0]\n",
        "     for value in num[1:]:\n",
        "       if value > maximum:\n",
        "             maximum = value\n",
        "     return maximum\n",
        "\n",
        "print(\"The minumun number is\",min([10, 23, 35, 48, 55, 98]))\n",
        "print(\"The maximum number is\",max([13, 98, 23, 411, 54, 16]))"
      ],
      "metadata": {
        "colab": {
          "base_uri": "https://localhost:8080/"
        },
        "id": "xwvh-9eejIeL",
        "outputId": "008c56b6-9f87-468d-8464-1fdc5ba75a89"
      },
      "execution_count": null,
      "outputs": [
        {
          "output_type": "stream",
          "name": "stdout",
          "text": [
            "The minumun number is 10\n",
            "The maximum number is 411\n"
          ]
        }
      ]
    },
    {
      "cell_type": "code",
      "source": [],
      "metadata": {
        "id": "11pDSwSKnzUt"
      },
      "execution_count": null,
      "outputs": []
    },
    {
      "cell_type": "code",
      "source": [],
      "metadata": {
        "id": "qmYI_U2epdbp"
      },
      "execution_count": null,
      "outputs": []
    }
  ]
}