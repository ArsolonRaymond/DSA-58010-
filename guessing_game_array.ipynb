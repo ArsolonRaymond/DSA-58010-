{
  "nbformat": 4,
  "nbformat_minor": 0,
  "metadata": {
    "colab": {
      "provenance": [],
      "authorship_tag": "ABX9TyNy7SViMpdofPdcTVHE0BwG",
      "include_colab_link": true
    },
    "kernelspec": {
      "name": "python3",
      "display_name": "Python 3"
    },
    "language_info": {
      "name": "python"
    }
  },
  "cells": [
    {
      "cell_type": "markdown",
      "metadata": {
        "id": "view-in-github",
        "colab_type": "text"
      },
      "source": [
        "<a href=\"https://colab.research.google.com/github/ArsolonRaymond/DSA-58010-/blob/main/guessing_game_array.ipynb\" target=\"_parent\"><img src=\"https://colab.research.google.com/assets/colab-badge.svg\" alt=\"Open In Colab\"/></a>"
      ]
    },
    {
      "cell_type": "markdown",
      "source": [
        "The player in this game must guess a word by guessing letters. Before losing the game, the player gets six chances to guess wrong. They win the game if they correctly predict all of the letters in the word before they run out of chances.\n",
        "\n",
        "This game use arrays to record the letters that were properly and wrongly guessed, as well as the list of possible words that the player can guess. The game employs a loop to continue asking the player to guess letters until they win or lose. It also employs an if statement to determine whether or not the player's estimate was right and to update the arrays and game variables accordingly."
      ],
      "metadata": {
        "id": "hb4sorLF3Zg-"
      }
    },
    {
      "cell_type": "code",
      "source": [
        "# First, we will import the library that we will be using to choose, any random words from a list of words  \n",
        "import random \n",
        "  \n",
        "# Here the user will be asked to enter their name first  \n",
        "name1 = input(\"What is your name player ? \")  \n",
        "  \n",
        "print(\"Best of Luck! \", name1)  \n",
        "   \n",
        "words1 = ['Donkey', 'Aeroplane', 'Blackpink', 'Twice', 'Python', 'DSA', 'Array', 'Linkedlist','LIFO', 'Adamson', 'krissy', \"Wallnut\", \"Cashew\", \"orange\", \"strawberry\", \"grape\"]\n",
        "   \n",
        "# random.choice() function will choose one random word from the gven list of words  \n",
        "word1 = random.choice(words1)  \n",
        "   \n",
        "print (\"Please guess the characters: \")  \n",
        "   \n",
        "guesses1 = ''  \n",
        "   \n",
        "# we can use any number of turns here  \n",
        "turns1 = 7  \n",
        "   \n",
        "while turns1 > 0:  \n",
        "    # counting the number of times a user is failed to guess the right character  \n",
        "    failed1 = 0  \n",
        "    # all the characters from the input word will be taken one at a time.  \n",
        "    for char in word1:   \n",
        "        # here, we will comparing that input character with the character in guesses1  \n",
        "        if char in guesses1:  \n",
        "            print(char, end= \" \")       \n",
        "        else:  \n",
        "            print(\"_\", end= \" \")   \n",
        "            # for every failure of the user 1 will be incremented in failed1  \n",
        "            failed1 += 1  \n",
        "               \n",
        "\n",
        "    if failed1 == 0:  \n",
        "        # user will win the game if failure is 0 and 'User Win' will be given as output  \n",
        "        print(\"User Win\")  \n",
        "           \n",
        "        # this will print the correct word  \n",
        "        print(\"\\nThe correct word is: \", word1)  \n",
        "        break  \n",
        "       \n",
        "    # if the user has input the wrong alphabet then  \n",
        "    # it will ask user to enter another alphabet  \n",
        "    guess1 = input(\"\\nGuess another character:\")  \n",
        "       \n",
        "    # every input character will be stored in guesses  \n",
        "    guesses1 += guess1  \n",
        "       \n",
        "    # here, it will check input with the character in word  \n",
        "    if guess1 not in word1:  \n",
        "           \n",
        "        turns1 -= 1  \n",
        "           \n",
        "        # if the input character doesnot match the word  \n",
        "        # then \"Wrong Guess\" will be given as output  \n",
        "        print(\"\\nWrong Guess\")  \n",
        "           \n",
        "        # this will print the number of turns left for the user  \n",
        "        print(\"\\nYou have \", + turns1, 'more guesses ')  \n",
        "           \n",
        "        if turns1 == 0:  \n",
        "            print(\"Oh no!\", name1, \"Loose, the correct answer is\", '' + word1)  "
      ],
      "metadata": {
        "id": "lqJijqRE3abB",
        "colab": {
          "base_uri": "https://localhost:8080/"
        },
        "outputId": "7fc50b33-b6dc-4027-d159-70123e730489"
      },
      "execution_count": 13,
      "outputs": [
        {
          "output_type": "stream",
          "name": "stdout",
          "text": [
            "What is your name player ? nanay mong si sayo\n",
            "Best of Luck!  nanay mong si sayo\n",
            "Please guess the characters: \n",
            "_ _ _ _ _ _ \n",
            "Guess another character:p\n",
            "\n",
            "Wrong Guess\n",
            "\n",
            "You have  6 more guesses \n",
            "_ _ _ _ _ _ \n",
            "Guess another character:[\n",
            "\n",
            "Wrong Guess\n",
            "\n",
            "You have  5 more guesses \n",
            "_ _ _ _ _ _ \n",
            "Guess another character:p\n",
            "\n",
            "Wrong Guess\n",
            "\n",
            "You have  4 more guesses \n",
            "_ _ _ _ _ _ \n",
            "Guess another character:p\n",
            "\n",
            "Wrong Guess\n",
            "\n",
            "You have  3 more guesses \n",
            "_ _ _ _ _ _ \n",
            "Guess another character:p\n",
            "\n",
            "Wrong Guess\n",
            "\n",
            "You have  2 more guesses \n",
            "_ _ _ _ _ _ \n",
            "Guess another character:p\n",
            "\n",
            "Wrong Guess\n",
            "\n",
            "You have  1 more guesses \n",
            "_ _ _ _ _ _ \n",
            "Guess another character:p\n",
            "\n",
            "Wrong Guess\n",
            "\n",
            "You have  0 more guesses \n",
            "Oh no! nanay mong si sayo Loose, the correct answer is Python\n"
          ]
        }
      ]
    }
  ]
}