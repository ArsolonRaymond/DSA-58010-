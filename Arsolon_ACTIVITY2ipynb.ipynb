{
  "nbformat": 4,
  "nbformat_minor": 0,
  "metadata": {
    "colab": {
      "provenance": [],
      "authorship_tag": "ABX9TyOcDQuMAzG3fBldbZuIgLCT",
      "include_colab_link": true
    },
    "kernelspec": {
      "name": "python3",
      "display_name": "Python 3"
    },
    "language_info": {
      "name": "python"
    }
  },
  "cells": [
    {
      "cell_type": "markdown",
      "metadata": {
        "id": "view-in-github",
        "colab_type": "text"
      },
      "source": [
        "<a href=\"https://colab.research.google.com/github/ArsolonRaymond/DSA-58010-/blob/main/Arsolon_ACTIVITY2ipynb.ipynb\" target=\"_parent\"><img src=\"https://colab.research.google.com/assets/colab-badge.svg\" alt=\"Open In Colab\"/></a>"
      ]
    },
    {
      "cell_type": "code",
      "execution_count": 27,
      "metadata": {
        "colab": {
          "base_uri": "https://localhost:8080/"
        },
        "id": "ZxeZ2LtXUi-d",
        "outputId": "dcdb5ce5-9d25-439b-88fa-f63176fc3168"
      },
      "outputs": [
        {
          "output_type": "stream",
          "name": "stdout",
          "text": [
            "The prime numbers less than 20 are:\n",
            "2\n",
            "3\n",
            "5\n",
            "7\n",
            "11\n",
            "13\n",
            "17\n",
            "19\n",
            "\n",
            "The head of list is 2\n",
            "The tail of list is 19\n"
          ]
        }
      ],
      "source": [
        "#function that will create Node object\n",
        "\n",
        "class Node:    #initializing Node class\n",
        "  def __init__(self, data):\n",
        "    self.data = data\n",
        "    self.next = None\n",
        "\n",
        "#this will create the  LinkedList\n",
        "\n",
        "class prime_list:     #initializing the Prime Numbers List class\n",
        "    def __init__(self):\n",
        "        self.head = None\n",
        "        self.tail = None\n",
        "        self.count = 0\n",
        "    def printList(self):\n",
        "      prime = self.head\n",
        "      while(prime):\n",
        "        print(prime.data)\n",
        "        prime = prime.next\n",
        "\n",
        "\n",
        "#Prime numbers under 20 are 2, 3, 5, 7, 11, 13, 17 and 19\n",
        "\n",
        "list = prime_list()\n",
        "list.head = Node(2)\n",
        "second = Node(3)\n",
        "third = Node(5)\n",
        "fourth = Node(7)\n",
        "fifth = Node(11)\n",
        "sixth = Node(13)\n",
        "seventh = Node(17)\n",
        "tail = Node(19)\n",
        "\n",
        "list.head.next = second\n",
        "second.next = third\n",
        "third.next = fourth\n",
        "fourth.next = fifth\n",
        "fifth.next = sixth\n",
        "sixth.next = seventh\n",
        "seventh.next = tail\n",
        "\n",
        "print(\"The prime numbers less than 20 are:\")\n",
        "list.printList()\n",
        "\n",
        "print(\"\\nThe head of list is\",list.head.data)\n",
        "print(\"The tail of list is\",seventh.next.data)"
      ]
    },
    {
      "cell_type": "code",
      "source": [],
      "metadata": {
        "id": "r4nqDkQdeef2"
      },
      "execution_count": null,
      "outputs": []
    },
    {
      "cell_type": "code",
      "source": [],
      "metadata": {
        "id": "a_2cs8O6dfLG"
      },
      "execution_count": null,
      "outputs": []
    }
  ]
}