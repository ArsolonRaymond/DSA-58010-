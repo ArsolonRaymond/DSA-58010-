{
  "nbformat": 4,
  "nbformat_minor": 0,
  "metadata": {
    "colab": {
      "provenance": [],
      "authorship_tag": "ABX9TyOkmdnGVIeDVNMIvWhe0pcZ",
      "include_colab_link": true
    },
    "kernelspec": {
      "name": "python3",
      "display_name": "Python 3"
    },
    "language_info": {
      "name": "python"
    }
  },
  "cells": [
    {
      "cell_type": "markdown",
      "metadata": {
        "id": "view-in-github",
        "colab_type": "text"
      },
      "source": [
        "<a href=\"https://colab.research.google.com/github/ArsolonRaymond/DSA-58010-/blob/main/guessing_game_array.ipynb\" target=\"_parent\"><img src=\"https://colab.research.google.com/assets/colab-badge.svg\" alt=\"Open In Colab\"/></a>"
      ]
    },
    {
      "cell_type": "markdown",
      "source": [
        "The player in this game must guess a word by guessing letters. Before losing the game, the player gets six chances to guess wrong. They win the game if they correctly predict all of the letters in the word before they run out of chances.\n",
        "\n",
        "This game use arrays to record the letters that were properly and wrongly guessed, as well as the list of possible words that the player can guess. The game employs a loop to continue asking the player to guess letters until they win or lose. It also employs an if statement to determine whether or not the player's estimate was right and to update the arrays and game variables accordingly."
      ],
      "metadata": {
        "id": "hb4sorLF3Zg-"
      }
    },
    {
      "cell_type": "code",
      "source": [
        "# Import the \"random\" module to generate random numbers\n",
        "import random\n",
        "\n",
        "# Create an array of words\n",
        "words = [\"apple\", \"banana\", \"orange\", \"strawberry\", \"grape\"]\n",
        "\n",
        "index = random.randint(0, len(words) - 1) \n",
        "# Generate a random index for the word array\n",
        "\n",
        "# Get the word at the random index from the array\n",
        "word = words[index]\n",
        "\n",
        "# Create an empty array to store the correctly guessed letters\n",
        "correct_letters = []\n",
        "\n",
        "# Create an empty array to store the incorrectly guessed letters\n",
        "incorrect_letters = []\n",
        "\n",
        "# Create a variable to track whether the player has won the game\n",
        "win = False\n",
        "\n",
        "# Print the word with underscores for each letter\n",
        "print(\"_ \" * len(word))\n",
        "\n",
        "# Ask the player to guess a letter\n",
        "letter = input(\"Guess a letter: \")  \n",
        "\n",
        "# Keep asking the player to guess letters until they win or lose\n",
        "while not win and len(incorrect_letters) < 6:\n",
        "    # Check if the letter is in the word\n",
        "    if letter in word:\n",
        "        # Insert the letter into the appropriate letters array.\n",
        "        correct_letters.append(letter)\n",
        "\n",
        "        # Check to see if the player has won.\n",
        "        if len(correct_letters) == len(word):\n",
        "            win = True\n",
        "    else:\n",
        "        # Add the letter to the array of incorrect letters.\n",
        "        incorrect_letters.append(letter)\n",
        "\n",
        "    # For letters that haven't been guessed, print the word with underscores.\n",
        "    for char in word:\n",
        "        if char in correct_letters:\n",
        "            print(char, end=\" \")\n",
        "        else:\n",
        "            print(\"_\", end=\" \")\n",
        "\n",
        "    # If the player has lost, print the incorrect letters as well as a message.\n",
        "    if len(incorrect_letters) == 6:\n",
        "        print(\"\\nYou lose! The word was \" + word)\n",
        "    else:\n",
        "        # Ask the player to guess another letter\n",
        "        letter = input(\"\\nGuess a letter: \")\n",
        "\n",
        "# Victory Message\n",
        "if win:\n",
        "    print(\"You win!\")"
      ],
      "metadata": {
        "colab": {
          "base_uri": "https://localhost:8080/"
        },
        "id": "S97r1WGS1yAE",
        "outputId": "e2922689-ac57-4b8f-af97-f1ddd287e6df"
      },
      "execution_count": null,
      "outputs": [
        {
          "output_type": "stream",
          "name": "stdout",
          "text": [
            "_ _ _ _ _ \n"
          ]
        }
      ]
    },
    {
      "cell_type": "code",
      "source": [],
      "metadata": {
        "id": "lqJijqRE3abB"
      },
      "execution_count": null,
      "outputs": []
    }
  ]
}