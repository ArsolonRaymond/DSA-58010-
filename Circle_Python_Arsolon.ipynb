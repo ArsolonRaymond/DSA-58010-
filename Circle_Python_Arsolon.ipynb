{
  "nbformat": 4,
  "nbformat_minor": 0,
  "metadata": {
    "colab": {
      "name": "Circle_Python_Arsolon.ipynb",
      "provenance": [],
      "authorship_tag": "ABX9TyO0zJr0bHbVnyoSFOJo8pgT",
      "include_colab_link": true
    },
    "kernelspec": {
      "name": "python3",
      "display_name": "Python 3"
    },
    "language_info": {
      "name": "python"
    }
  },
  "cells": [
    {
      "cell_type": "markdown",
      "metadata": {
        "id": "view-in-github",
        "colab_type": "text"
      },
      "source": [
        "<a href=\"https://colab.research.google.com/github/ArsolonRaymond/DSA-58010-/blob/main/Circle_Python_Arsolon.ipynb\" target=\"_parent\"><img src=\"https://colab.research.google.com/assets/colab-badge.svg\" alt=\"Open In Colab\"/></a>"
      ]
    },
    {
      "cell_type": "code",
      "execution_count": null,
      "metadata": {
        "id": "uwZk1G6mWbEh"
      },
      "outputs": [],
      "source": [
        "PI = 3.14\n",
        "r = float(input('Enter the radius of the circle :'))\n",
        "area = PI * r * r\n",
        "\n",
        "print(\"Area of the circle is : %.2f\" %area)"
      ]
    }
  ]
}