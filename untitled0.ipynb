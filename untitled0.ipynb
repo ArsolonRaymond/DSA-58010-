{
  "nbformat": 4,
  "nbformat_minor": 0,
  "metadata": {
    "colab": {
      "provenance": [],
      "authorship_tag": "ABX9TyONOGUsxSW5kYn+gASFpXtm",
      "include_colab_link": true
    },
    "kernelspec": {
      "name": "python3",
      "display_name": "Python 3"
    },
    "language_info": {
      "name": "python"
    }
  },
  "cells": [
    {
      "cell_type": "markdown",
      "metadata": {
        "id": "view-in-github",
        "colab_type": "text"
      },
      "source": [
        "<a href=\"https://colab.research.google.com/github/ArsolonRaymond/DSA-58010-/blob/main/untitled0.ipynb\" target=\"_parent\"><img src=\"https://colab.research.google.com/assets/colab-badge.svg\" alt=\"Open In Colab\"/></a>"
      ]
    },
    {
      "cell_type": "code",
      "execution_count": null,
      "metadata": {
        "colab": {
          "base_uri": "https://localhost:8080/"
        },
        "id": "CLJbuf17RHlD",
        "outputId": "695c1c0f-15a0-41b7-b351-8a91aeb4bf73"
      },
      "outputs": [
        {
          "output_type": "stream",
          "name": "stdout",
          "text": [
            "Name of Polygon:  Pentagon\n",
            "Number of Sides:  5\n",
            "Input the Length of a side: 21\n",
            "Input the Apothem: 31\n",
            "Area of a Regular Pentagon is:  1627.5\n"
          ]
        }
      ],
      "source": [
        "class Polygon:\n",
        "  def __init__(self, name, sides):\n",
        "      self.name = name\n",
        "      self.sides = sides\n",
        "\n",
        "  def getName(self):\n",
        "      return self.name\n",
        "\n",
        "  def getSides(self):\n",
        "      return self.sides\n",
        "  \n",
        "  def setName(self, name):\n",
        "      self.name = name\n",
        "\n",
        "  def setsides(self, sides):\n",
        "      self.sides = sides\n",
        "\n",
        "def main():\n",
        "    polygon = Polygon(\"Pentagon\", 5)\n",
        "    print(\"Name of Polygon: \", polygon.getName())\n",
        "    polygon.setsides(5)\n",
        "    print(\"Number of Sides: \", polygon.getSides())\n",
        "\n",
        "main()\n",
        "Side = float(input(\"Input the Length of a side: \"))\n",
        "Apthm = float(input(\"Input the Apothem: \"))\n",
        "\n",
        "area = 5/2*Side*Apthm\n",
        "\n",
        "print(\"Area of a Regular Pentagon is: \", area)"
      ]
    },
    {
      "cell_type": "code",
      "source": [
        "S"
      ],
      "metadata": {
        "id": "vGZHcUWeRLMv"
      },
      "execution_count": null,
      "outputs": []
    }
  ]
}