{
  "nbformat": 4,
  "nbformat_minor": 0,
  "metadata": {
    "colab": {
      "name": "Untitled0.ipynb",
      "provenance": [],
      "authorship_tag": "ABX9TyNJX7HYIXBtj8dSC3fXccZ4",
      "include_colab_link": true
    },
    "kernelspec": {
      "name": "python3",
      "display_name": "Python 3"
    },
    "language_info": {
      "name": "python"
    }
  },
  "cells": [
    {
      "cell_type": "markdown",
      "metadata": {
        "id": "view-in-github",
        "colab_type": "text"
      },
      "source": [
        "<a href=\"https://colab.research.google.com/github/ArsolonRaymond/DSA-58010-/blob/main/Practical_1_Arsolon.ipynb\" target=\"_parent\"><img src=\"https://colab.research.google.com/assets/colab-badge.svg\" alt=\"Open In Colab\"/></a>"
      ]
    },
    {
      "cell_type": "code",
      "execution_count": 16,
      "metadata": {
        "colab": {
          "base_uri": "https://localhost:8080/"
        },
        "id": "sklJUgkEjFRD",
        "outputId": "477187e0-f5b9-45fe-aedd-c02936797b88"
      },
      "outputs": [
        {
          "output_type": "stream",
          "name": "stdout",
          "text": [
            "The sum of the EVEN numbers is: 186\n"
          ]
        }
      ],
      "source": [
        "Number = [26, 49, 98, 87, 62, 75] \n",
        "even = 0\n",
        "\n",
        "for i in Number:\n",
        "  if not i % 2:\n",
        "   even += i\n",
        "\n",
        "print(\"The sum of the EVEN numbers is:\",even)"
      ]
    }
  ]
}